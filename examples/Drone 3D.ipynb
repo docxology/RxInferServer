{
 "cells": [
  {
   "cell_type": "code",
   "execution_count": 65,
   "id": "3aec3dfc-c353-466b-9bc4-99d4b978c4a5",
   "metadata": {},
   "outputs": [],
   "source": [
    "using RxInferClientOpenAPI\n",
    "using Plots, Statistics, LinearAlgebra"
   ]
  },
  {
   "cell_type": "code",
   "execution_count": 90,
   "id": "a6c85aa9-e488-445f-a55a-904f0839d7e2",
   "metadata": {},
   "outputs": [
    {
     "name": "stderr",
     "output_type": "stream",
     "text": [
      "WARNING: replacing module Environment.\n"
     ]
    },
    {
     "data": {
      "text/plain": [
       "Main.Environment"
      ]
     },
     "execution_count": 90,
     "metadata": {},
     "output_type": "execute_result"
    }
   ],
   "source": [
    "module Environment \n",
    "using Plots, LinearAlgebra\n",
    "\n",
    "Base.@kwdef struct Drone\n",
    "    gravity::Float64\n",
    "    mass::Float64\n",
    "    inertia::Vector{Float64}\n",
    "    radius::Float64\n",
    "    arm_length::Float64\n",
    "    force_limit::Float64\n",
    "end\n",
    "\n",
    "get_gravity(drone::Drone) = drone.gravity\n",
    "get_mass(drone::Drone) = drone.mass\n",
    "get_inertia(drone::Drone) = Matrix(Diagonal(drone.inertia))\n",
    "get_radius(drone::Drone) = drone.radius\n",
    "get_arm_length(drone::Drone) = drone.arm_length\n",
    "get_force_limit(drone::Drone) = drone.force_limit\n",
    "\n",
    "function get_properties(drone::Drone)\n",
    "    return (\n",
    "        drone.gravity,\n",
    "        drone.mass,\n",
    "        Matrix(Diagonal(drone.inertia)),\n",
    "        drone.radius,\n",
    "        drone.arm_length,\n",
    "        drone.force_limit\n",
    "    )\n",
    "end\n",
    "\n",
    "function rotation_matrix(ψ, θ, ϕ)\n",
    "    # Rotation matrices for each axis\n",
    "    Rz = [\n",
    "        cos(ψ) -sin(ψ) 0\n",
    "        sin(ψ) cos(ψ) 0\n",
    "        0 0 1\n",
    "    ]\n",
    "\n",
    "    Ry = [\n",
    "        cos(θ) 0 sin(θ)\n",
    "        0 1 0\n",
    "        -sin(θ) 0 cos(θ)\n",
    "    ]\n",
    "\n",
    "    Rx = [\n",
    "        1 0 0\n",
    "        0 cos(ϕ) -sin(ϕ)\n",
    "        0 sin(ϕ) cos(ϕ)\n",
    "    ]\n",
    "\n",
    "    # Combined rotation matrix (ZYX order)\n",
    "    return Rz * Ry * Rx\n",
    "end\n",
    "\n",
    "function state_transition_3d(state, actions, drone::Drone, dt)\n",
    "    # Extract properties\n",
    "    g, m, I, r, L, limit = get_properties(drone)\n",
    "\n",
    "    # Clamp motor forces\n",
    "    F1, F2, F3, F4 = clamp.(actions, 0, limit)\n",
    "\n",
    "    # Extract state\n",
    "    x, y, z, vx, vy, vz, ϕ, θ, ψ, ωx, ωy, ωz = state\n",
    "\n",
    "    # Current rotation matrix\n",
    "    R = rotation_matrix(ψ, θ, ϕ)\n",
    "\n",
    "    # Total thrust force in body frame\n",
    "    F_total = sum([F1, F2, F3, F4])\n",
    "\n",
    "    # Compute torques\n",
    "    τx = L * (F2 - F4)  # roll torque\n",
    "    τy = L * (F1 - F3)   # pitch torque\n",
    "    τz = (F1 + F3 - F2 - F4) * r  # yaw torque\n",
    "\n",
    "    # Forces in world frame\n",
    "    F_world = R * [0, 0, F_total]\n",
    "\n",
    "    # Accelerations\n",
    "    ax = F_world[1] / m\n",
    "    ay = F_world[2] / m\n",
    "    az = F_world[3] / m - g\n",
    "\n",
    "    # Angular accelerations\n",
    "    α = I \\ ([τx, τy, τz] - cross([ωx, ωy, ωz], I * [ωx, ωy, ωz]))\n",
    "\n",
    "    # Update velocities\n",
    "    vx_new = vx + ax * dt\n",
    "    vy_new = vy + ay * dt\n",
    "    vz_new = vz + az * dt\n",
    "\n",
    "    # Update positions\n",
    "    x_new = x + vx * dt + ax * dt^2 / 2\n",
    "    y_new = y + vy * dt + ay * dt^2 / 2\n",
    "    z_new = z + vz * dt + az * dt^2 / 2\n",
    "\n",
    "    # Update angular velocities\n",
    "    ωx_new = ωx + α[1] * dt\n",
    "    ωy_new = ωy + α[2] * dt\n",
    "    ωz_new = ωz + α[3] * dt\n",
    "\n",
    "    # Update angles\n",
    "    ϕ_new = ϕ + ωx * dt + α[1] * dt^2 / 2\n",
    "    θ_new = θ + ωy * dt + α[2] * dt^2 / 2\n",
    "    ψ_new = ψ + ωz * dt + α[3] * dt^2 / 2\n",
    "\n",
    "    return [x_new, y_new, z_new, vx_new, vy_new, vz_new, ϕ_new, θ_new, ψ_new, ωx_new, ωy_new, ωz_new]\n",
    "end\n",
    "\n",
    "# Visualization function for 3D drone\n",
    "function plot_drone_3d!(p, drone, state; color=:black)\n",
    "    x, y, z, _, _, _, ϕ, θ, ψ, _, _, _ = state\n",
    "    _, _, _, radius, arm_length, _ = get_properties(drone)\n",
    "    \n",
    "    # Create rotation matrix\n",
    "    R = rotation_matrix(ψ, θ, ϕ)\n",
    "    \n",
    "    # Define arm endpoints in body frame (relative to center)\n",
    "    arm_endpoints = [\n",
    "        [arm_length, 0, 0],   # Right arm (X configuration)\n",
    "        [0, arm_length, 0],   # Front arm\n",
    "        [-arm_length, 0, 0],  # Left arm\n",
    "        [0, -arm_length, 0]   # Back arm\n",
    "    ]\n",
    "    \n",
    "    # Transform arm endpoints to world frame\n",
    "    world_endpoints = []\n",
    "    for endpoint in arm_endpoints\n",
    "        # Convert endpoint to column vector for matrix multiplication\n",
    "        endpoint_vec = reshape(endpoint, :, 1)\n",
    "        # Apply rotation and translation\n",
    "        world_point = R * endpoint_vec + [x, y, z]\n",
    "        push!(world_endpoints, vec(world_point))\n",
    "    end\n",
    "    \n",
    "    # Plot center\n",
    "    scatter!(p, [x], [y], [z], color=color, label=false, markersize=5)\n",
    "    \n",
    "    # Plot arms and motors\n",
    "    for endpoint in world_endpoints\n",
    "        # Draw arm\n",
    "        plot!(p, [x, endpoint[1]], [y, endpoint[2]], [z, endpoint[3]], \n",
    "              color=color, label=false, linewidth=2)\n",
    "        # Draw motor\n",
    "        scatter!(p, [endpoint[1]], [endpoint[2]], [endpoint[3]], \n",
    "                color=color, label=false, markersize=3)\n",
    "    end\n",
    "end\n",
    "end"
   ]
  },
  {
   "cell_type": "code",
   "execution_count": 91,
   "id": "9423da12-b5d7-4522-af1d-d669871614a0",
   "metadata": {},
   "outputs": [],
   "source": [
    "client = RxInferClientOpenAPI.OpenAPI.Clients.Client(\"http://localhost:8000/v1\")\n",
    "RxInferClientOpenAPI.OpenAPI.Clients.set_header(client, \"Authorization\", \"Bearer dev-token\");"
   ]
  },
  {
   "cell_type": "code",
   "execution_count": 92,
   "id": "30d8ea45-6253-4828-9df8-f1315c026d08",
   "metadata": {},
   "outputs": [],
   "source": [
    "server_api = RxInferClientOpenAPI.ServerApi(client)\n",
    "models_api = RxInferClientOpenAPI.ModelsApi(client);"
   ]
  },
  {
   "cell_type": "code",
   "execution_count": 93,
   "id": "3bf0ca4d-d0f4-44ab-9ff5-84050a7c38d3",
   "metadata": {},
   "outputs": [
    {
     "data": {
      "text/plain": [
       "{\n",
       "  \"rxinfer_version\": \"4.3.1\",\n",
       "  \"server_version\": \"1.0.0-DEV\",\n",
       "  \"server_edition\": \"CommunityEdition\",\n",
       "  \"julia_version\": \"1.11.4\",\n",
       "  \"api_version\": \"v1\"\n",
       "}\n"
      ]
     },
     "execution_count": 93,
     "metadata": {},
     "output_type": "execute_result"
    }
   ],
   "source": [
    "response, info = RxInferClientOpenAPI.get_server_info(server_api)\n",
    "response"
   ]
  },
  {
   "cell_type": "code",
   "execution_count": 94,
   "id": "0cff0787-ff48-48ca-adb4-0235c6128a70",
   "metadata": {},
   "outputs": [
    {
     "data": {
      "text/plain": [
       "{\n",
       "  \"models\": [\n",
       "    {\n",
       "      \"name\": \"BetaBernoulli-v1\",\n",
       "      \"description\": \"A simple Beta-Bernoulli model\"\n",
       "    },\n",
       "    {\n",
       "      \"name\": \"Drone3D-v1\",\n",
       "      \"description\": \"A 3D drone model\"\n",
       "    },\n",
       "    {\n",
       "      \"name\": \"Drone2D-v1\",\n",
       "      \"description\": \"A 2D drone model\"\n",
       "    }\n",
       "  ]\n",
       "}\n"
      ]
     },
     "execution_count": 94,
     "metadata": {},
     "output_type": "execute_result"
    }
   ],
   "source": [
    "response, info = RxInferClientOpenAPI.get_models(models_api)\n",
    "response"
   ]
  },
  {
   "cell_type": "code",
   "execution_count": 95,
   "id": "8c21c800-5e20-4f6b-9692-fc4c0640619c",
   "metadata": {},
   "outputs": [
    {
     "data": {
      "text/plain": [
       "Main.Environment.Drone(9.81, 1.0, [0.1, 0.1, 0.15], 0.1, 0.2, 15.0)"
      ]
     },
     "execution_count": 95,
     "metadata": {},
     "output_type": "execute_result"
    }
   ],
   "source": [
    "drone = Environment.Drone(\n",
    "    gravity = 9.81,\n",
    "    mass = 1.0,\n",
    "    inertia = [0.1, 0.1, 0.15],\n",
    "    radius = 0.1,\n",
    "    arm_length = 0.2,\n",
    "    force_limit = 15\n",
    ")"
   ]
  },
  {
   "cell_type": "code",
   "execution_count": 138,
   "id": "4bc9fcf3-e06d-4abd-9541-baf36b901793",
   "metadata": {},
   "outputs": [
    {
     "data": {
      "text/plain": [
       "\"4d6687a2-7abb-4587-9d06-0f25f975a559\""
      ]
     },
     "execution_count": 138,
     "metadata": {},
     "output_type": "execute_result"
    }
   ],
   "source": [
    "create_model_req = RxInferClientOpenAPI.CreateModelRequest(\n",
    "    model = \"Drone3D-v1\",\n",
    "    description = \"3D drone demonstration\",\n",
    "    arguments = Dict(\n",
    "        \"dt\" => 0.05,\n",
    "        \"horizon\" => 40,\n",
    "        \"gravity\" => drone.gravity,\n",
    "        \"mass\" => drone.mass,\n",
    "        \"inertia\" => drone.inertia,\n",
    "        \"radius\" => drone.radius,\n",
    "        \"arm_length\" => drone.arm_length,\n",
    "        \"force_limit\" => drone.force_limit\n",
    "    )\n",
    ")\n",
    "\n",
    "response, _ = RxInferClientOpenAPI.create_model(models_api, create_model_req)\n",
    "model_id = response.model_id"
   ]
  },
  {
   "cell_type": "code",
   "execution_count": 139,
   "id": "f9670278-7b90-46ed-84d6-0a686e1740a6",
   "metadata": {},
   "outputs": [
    {
     "data": {
      "text/plain": [
       "3-element Vector{Float64}:\n",
       " 0.4\n",
       " 0.8\n",
       " 0.2"
      ]
     },
     "execution_count": 139,
     "metadata": {},
     "output_type": "execute_result"
    }
   ],
   "source": [
    "start = [\n",
    "    0.0, 0.0, 0.0,  # position (x, y, z)\n",
    "    0.0, 0.0, 0.0,  # velocity (vx, vy, vz)\n",
    "    0.0, 0.0, 0.0,  # orientation (ϕ, θ, ψ)\n",
    "    0.0, 0.0, 0.0   # angular velocity (ωx, ωy, ωz)\n",
    "]\n",
    "target = [ 0.4, 0.8, 0.2 ]"
   ]
  },
  {
   "cell_type": "code",
   "execution_count": 140,
   "id": "88bc2912-d696-442d-92a3-994d2ad0f2bb",
   "metadata": {},
   "outputs": [],
   "source": [
    "inference_req = RxInferClientOpenAPI.InferRequest(\n",
    "    data = Dict(\n",
    "        \"current_state\" => start,\n",
    "        \"target\" => target,\n",
    "    )\n",
    ")\n",
    "response, _ = RxInferClientOpenAPI.run_inference(models_api, model_id, inference_req);"
   ]
  },
  {
   "cell_type": "code",
   "execution_count": 141,
   "id": "04788f61-c6c9-4706-8a72-47b0b851ec17",
   "metadata": {},
   "outputs": [],
   "source": [
    "states = [ start ]\n",
    "for action in response.results[\"actions\"]\n",
    "    a = Float64.(action)\n",
    "    current_state = last(states)\n",
    "    next_state = Environment.state_transition_3d(current_state, a, drone, 0.05)\n",
    "    push!(states, next_state)\n",
    "end"
   ]
  },
  {
   "cell_type": "code",
   "execution_count": 142,
   "id": "ed1515fa-c142-4de2-be0e-1806671018be",
   "metadata": {},
   "outputs": [
    {
     "data": {
      "text/html": [
       "<img src=\"data:image/gif;base64,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\" />"
      ],
      "text/plain": [
       "Plots.AnimatedGif(\"/Users/bvdmitri/Projects/LazyDynamics/RxInferServer/examples/drone-plan.gif\")"
      ]
     },
     "execution_count": 142,
     "metadata": {},
     "output_type": "execute_result"
    }
   ],
   "source": [
    "animation = @animate for k in 1:length(states)\n",
    "\n",
    "    # plot target\n",
    "    p = scatter([target[1]], [target[2]], [target[3]], label = \"target\"; color = :red)\n",
    "\n",
    "    # plot drone\n",
    "    Environment.plot_drone_3d!(p, drone, states[k])\n",
    "    # Environment.plot_drone_3d!(p, drone, response.results[\"states\"][k])\n",
    "\n",
    "    xlims!(-1.5, 1.5)\n",
    "    ylims!(-1.5, 1.5)\n",
    "    zlims!(-1.5, 1.5)\n",
    "\n",
    "end\n",
    "\n",
    "gif(animation, \"drone-plan.gif\", show_msg = false)"
   ]
  },
  {
   "cell_type": "code",
   "execution_count": 157,
   "id": "d4c1e52b-cc80-46e5-b7c5-6c30df9511e5",
   "metadata": {},
   "outputs": [
    {
     "data": {
      "text/plain": [
       "experiment_with_server (generic function with 1 method)"
      ]
     },
     "execution_count": 157,
     "metadata": {},
     "output_type": "execute_result"
    }
   ],
   "source": [
    "function experiment_with_server()\n",
    "\n",
    "    drone = Environment.Drone(\n",
    "        gravity = 9.81,\n",
    "        mass = 1.0,\n",
    "        inertia = [0.1, 0.1, 0.15],\n",
    "        radius = 0.1,\n",
    "        arm_length = 0.2,\n",
    "        force_limit = 15\n",
    "    )\n",
    "\n",
    "    dt = 0.05\n",
    "    horizon = 20\n",
    "\n",
    "    create_model_req = RxInferClientOpenAPI.CreateModelRequest(\n",
    "        model = \"Drone3D-v1\",\n",
    "        description = \"3D drone demonstration\",\n",
    "        arguments = Dict(\n",
    "            \"dt\" => dt,\n",
    "            \"horizon\" => horizon,\n",
    "            \"gravity\" => drone.gravity,\n",
    "            \"mass\" => drone.mass,\n",
    "            \"inertia\" => drone.inertia,\n",
    "            \"radius\" => drone.radius,\n",
    "            \"arm_length\" => drone.arm_length,\n",
    "            \"force_limit\" => drone.force_limit\n",
    "        )\n",
    "    )\n",
    "    \n",
    "    response, _ = RxInferClientOpenAPI.create_model(models_api, create_model_req)\n",
    "    model_id = response.model_id\n",
    "\n",
    "    targets = [\n",
    "        [ 0.4, 0.8, 0.0 ],\n",
    "        [ -0.4, 0.8, -0.0 ],\n",
    "        [ 0.6, 0.0, 0.0 ],\n",
    "        [ 0.0, 0.6, -0.0 ],\n",
    "        [ 0.7, -0.6, -0.0 ],\n",
    "    ] \n",
    "    \n",
    "    start = [\n",
    "        0.0, 0.0, 0.0,  # position (x, y, z)\n",
    "        0.0, 0.0, 0.0,  # velocity (vx, vy, vz)\n",
    "        0.0, 0.0, 0.0,  # orientation (ϕ, θ, ψ)\n",
    "        0.0, 0.0, 0.0   # angular velocity (ωx, ωy, ωz)\n",
    "    ]\n",
    "\n",
    "    current_state = copy(start)\n",
    "    times = Float64[]\n",
    "    \n",
    "    animation = @animate for k in 1:250\n",
    "\n",
    "        target = targets[mod(div(k, 50), length(targets)) + 1]\n",
    "\n",
    "        start_time = time_ns()\n",
    "        inference_req = RxInferClientOpenAPI.InferRequest(\n",
    "            data = Dict(\n",
    "                \"current_state\" => current_state,\n",
    "                \"target\" => target,\n",
    "            )\n",
    "        )\n",
    "        response, _ = RxInferClientOpenAPI.run_inference(models_api, model_id, inference_req);\n",
    "        end_time = time_ns()\n",
    "\n",
    "        push!(times, end_time - start_time)\n",
    "\n",
    "        first_action = Float64.(response.results[\"actions\"][1])\n",
    "\n",
    "        next_state = Environment.state_transition_3d(current_state, first_action, drone, dt)\n",
    "        current_state = copy(next_state)\n",
    "    \n",
    "        # plot target\n",
    "        p = scatter([target[1]], [target[2]], [target[3]], label = \"target\"; color = :red)\n",
    "    \n",
    "        # plot drone\n",
    "        Environment.plot_drone_3d!(p, drone, next_state)\n",
    "    \n",
    "        xlims!(-1.5, 1.5)\n",
    "        ylims!(-1.5, 1.5)\n",
    "        zlims!(-1.5, 1.5)\n",
    "    \n",
    "    end\n",
    "    \n",
    "    anim = gif(animation, \"drone-plan.gif\", show_msg = false)\n",
    "\n",
    "    return anim, times\n",
    "end"
   ]
  },
  {
   "cell_type": "code",
   "execution_count": null,
   "id": "0b825798-88e4-4f1e-b6ab-9bcf8d4b56ba",
   "metadata": {},
   "outputs": [],
   "source": [
    "anim, times = experiment_with_server()\n",
    "anim"
   ]
  },
  {
   "cell_type": "code",
   "execution_count": 147,
   "id": "fec21287-de10-4789-ba1b-9d7cba8c8d61",
   "metadata": {},
   "outputs": [],
   "source": [
    "times_ms = map(tns -> tns / 10^6, times);"
   ]
  },
  {
   "cell_type": "code",
   "execution_count": 148,
   "id": "276d4914-daf4-4b8c-8eef-123b0edca490",
   "metadata": {},
   "outputs": [
    {
     "data": {
      "text/plain": [
       "0.034001097058453014"
      ]
     },
     "execution_count": 148,
     "metadata": {},
     "output_type": "execute_result"
    }
   ],
   "source": [
    "1 / mean(times_ms)"
   ]
  },
  {
   "cell_type": "code",
   "execution_count": null,
   "id": "f8af2624-4961-4cd4-93f2-426a5e3def51",
   "metadata": {},
   "outputs": [],
   "source": []
  }
 ],
 "metadata": {
  "kernelspec": {
   "display_name": "Julia 1.11.4",
   "language": "julia",
   "name": "julia-1.11"
  },
  "language_info": {
   "file_extension": ".jl",
   "mimetype": "application/julia",
   "name": "julia",
   "version": "1.11.4"
  }
 },
 "nbformat": 4,
 "nbformat_minor": 5
}

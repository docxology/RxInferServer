{
 "cells": [
  {
   "cell_type": "code",
   "execution_count": 65,
   "id": "3aec3dfc-c353-466b-9bc4-99d4b978c4a5",
   "metadata": {},
   "outputs": [],
   "source": [
    "using RxInferClientOpenAPI\n",
    "using Plots, Statistics, LinearAlgebra"
   ]
  },
  {
   "cell_type": "code",
   "execution_count": 90,
   "id": "a6c85aa9-e488-445f-a55a-904f0839d7e2",
   "metadata": {},
   "outputs": [
    {
     "name": "stderr",
     "output_type": "stream",
     "text": [
      "WARNING: replacing module Environment.\n"
     ]
    },
    {
     "data": {
      "text/plain": [
       "Main.Environment"
      ]
     },
     "execution_count": 90,
     "metadata": {},
     "output_type": "execute_result"
    }
   ],
   "source": [
    "module Environment \n",
    "using Plots, LinearAlgebra\n",
    "\n",
    "Base.@kwdef struct Drone\n",
    "    gravity::Float64\n",
    "    mass::Float64\n",
    "    inertia::Vector{Float64}\n",
    "    radius::Float64\n",
    "    arm_length::Float64\n",
    "    force_limit::Float64\n",
    "end\n",
    "\n",
    "get_gravity(drone::Drone) = drone.gravity\n",
    "get_mass(drone::Drone) = drone.mass\n",
    "get_inertia(drone::Drone) = Matrix(Diagonal(drone.inertia))\n",
    "get_radius(drone::Drone) = drone.radius\n",
    "get_arm_length(drone::Drone) = drone.arm_length\n",
    "get_force_limit(drone::Drone) = drone.force_limit\n",
    "\n",
    "function get_properties(drone::Drone)\n",
    "    return (\n",
    "        drone.gravity,\n",
    "        drone.mass,\n",
    "        Matrix(Diagonal(drone.inertia)),\n",
    "        drone.radius,\n",
    "        drone.arm_length,\n",
    "        drone.force_limit\n",
    "    )\n",
    "end\n",
    "\n",
    "function rotation_matrix(ψ, θ, ϕ)\n",
    "    # Rotation matrices for each axis\n",
    "    Rz = [\n",
    "        cos(ψ) -sin(ψ) 0\n",
    "        sin(ψ) cos(ψ) 0\n",
    "        0 0 1\n",
    "    ]\n",
    "\n",
    "    Ry = [\n",
    "        cos(θ) 0 sin(θ)\n",
    "        0 1 0\n",
    "        -sin(θ) 0 cos(θ)\n",
    "    ]\n",
    "\n",
    "    Rx = [\n",
    "        1 0 0\n",
    "        0 cos(ϕ) -sin(ϕ)\n",
    "        0 sin(ϕ) cos(ϕ)\n",
    "    ]\n",
    "\n",
    "    # Combined rotation matrix (ZYX order)\n",
    "    return Rz * Ry * Rx\n",
    "end\n",
    "\n",
    "function state_transition_3d(state, actions, drone::Drone, dt)\n",
    "    # Extract properties\n",
    "    g, m, I, r, L, limit = get_properties(drone)\n",
    "\n",
    "    # Clamp motor forces\n",
    "    F1, F2, F3, F4 = clamp.(actions, 0, limit)\n",
    "\n",
    "    # Extract state\n",
    "    x, y, z, vx, vy, vz, ϕ, θ, ψ, ωx, ωy, ωz = state\n",
    "\n",
    "    # Current rotation matrix\n",
    "    R = rotation_matrix(ψ, θ, ϕ)\n",
    "\n",
    "    # Total thrust force in body frame\n",
    "    F_total = sum([F1, F2, F3, F4])\n",
    "\n",
    "    # Compute torques\n",
    "    τx = L * (F2 - F4)  # roll torque\n",
    "    τy = L * (F1 - F3)   # pitch torque\n",
    "    τz = (F1 + F3 - F2 - F4) * r  # yaw torque\n",
    "\n",
    "    # Forces in world frame\n",
    "    F_world = R * [0, 0, F_total]\n",
    "\n",
    "    # Accelerations\n",
    "    ax = F_world[1] / m\n",
    "    ay = F_world[2] / m\n",
    "    az = F_world[3] / m - g\n",
    "\n",
    "    # Angular accelerations\n",
    "    α = I \\ ([τx, τy, τz] - cross([ωx, ωy, ωz], I * [ωx, ωy, ωz]))\n",
    "\n",
    "    # Update velocities\n",
    "    vx_new = vx + ax * dt\n",
    "    vy_new = vy + ay * dt\n",
    "    vz_new = vz + az * dt\n",
    "\n",
    "    # Update positions\n",
    "    x_new = x + vx * dt + ax * dt^2 / 2\n",
    "    y_new = y + vy * dt + ay * dt^2 / 2\n",
    "    z_new = z + vz * dt + az * dt^2 / 2\n",
    "\n",
    "    # Update angular velocities\n",
    "    ωx_new = ωx + α[1] * dt\n",
    "    ωy_new = ωy + α[2] * dt\n",
    "    ωz_new = ωz + α[3] * dt\n",
    "\n",
    "    # Update angles\n",
    "    ϕ_new = ϕ + ωx * dt + α[1] * dt^2 / 2\n",
    "    θ_new = θ + ωy * dt + α[2] * dt^2 / 2\n",
    "    ψ_new = ψ + ωz * dt + α[3] * dt^2 / 2\n",
    "\n",
    "    return [x_new, y_new, z_new, vx_new, vy_new, vz_new, ϕ_new, θ_new, ψ_new, ωx_new, ωy_new, ωz_new]\n",
    "end\n",
    "\n",
    "# Visualization function for 3D drone\n",
    "function plot_drone_3d!(p, drone, state; color=:black)\n",
    "    x, y, z, _, _, _, ϕ, θ, ψ, _, _, _ = state\n",
    "    _, _, _, radius, arm_length, _ = get_properties(drone)\n",
    "    \n",
    "    # Create rotation matrix\n",
    "    R = rotation_matrix(ψ, θ, ϕ)\n",
    "    \n",
    "    # Define arm endpoints in body frame (relative to center)\n",
    "    arm_endpoints = [\n",
    "        [arm_length, 0, 0],   # Right arm (X configuration)\n",
    "        [0, arm_length, 0],   # Front arm\n",
    "        [-arm_length, 0, 0],  # Left arm\n",
    "        [0, -arm_length, 0]   # Back arm\n",
    "    ]\n",
    "    \n",
    "    # Transform arm endpoints to world frame\n",
    "    world_endpoints = []\n",
    "    for endpoint in arm_endpoints\n",
    "        # Convert endpoint to column vector for matrix multiplication\n",
    "        endpoint_vec = reshape(endpoint, :, 1)\n",
    "        # Apply rotation and translation\n",
    "        world_point = R * endpoint_vec + [x, y, z]\n",
    "        push!(world_endpoints, vec(world_point))\n",
    "    end\n",
    "    \n",
    "    # Plot center\n",
    "    scatter!(p, [x], [y], [z], color=color, label=false, markersize=5)\n",
    "    \n",
    "    # Plot arms and motors\n",
    "    for endpoint in world_endpoints\n",
    "        # Draw arm\n",
    "        plot!(p, [x, endpoint[1]], [y, endpoint[2]], [z, endpoint[3]], \n",
    "              color=color, label=false, linewidth=2)\n",
    "        # Draw motor\n",
    "        scatter!(p, [endpoint[1]], [endpoint[2]], [endpoint[3]], \n",
    "                color=color, label=false, markersize=3)\n",
    "    end\n",
    "end\n",
    "end"
   ]
  },
  {
   "cell_type": "code",
   "execution_count": 91,
   "id": "9423da12-b5d7-4522-af1d-d669871614a0",
   "metadata": {},
   "outputs": [],
   "source": [
    "client = RxInferClientOpenAPI.OpenAPI.Clients.Client(\"http://localhost:8000/v1\")\n",
    "RxInferClientOpenAPI.OpenAPI.Clients.set_header(client, \"Authorization\", \"Bearer dev-token\");"
   ]
  },
  {
   "cell_type": "code",
   "execution_count": 92,
   "id": "30d8ea45-6253-4828-9df8-f1315c026d08",
   "metadata": {},
   "outputs": [],
   "source": [
    "server_api = RxInferClientOpenAPI.ServerApi(client)\n",
    "models_api = RxInferClientOpenAPI.ModelsApi(client);"
   ]
  },
  {
   "cell_type": "code",
   "execution_count": 93,
   "id": "3bf0ca4d-d0f4-44ab-9ff5-84050a7c38d3",
   "metadata": {},
   "outputs": [
    {
     "data": {
      "text/plain": [
       "{\n",
       "  \"rxinfer_version\": \"4.3.1\",\n",
       "  \"server_version\": \"1.0.0-DEV\",\n",
       "  \"server_edition\": \"CommunityEdition\",\n",
       "  \"julia_version\": \"1.11.4\",\n",
       "  \"api_version\": \"v1\"\n",
       "}\n"
      ]
     },
     "execution_count": 93,
     "metadata": {},
     "output_type": "execute_result"
    }
   ],
   "source": [
    "response, info = RxInferClientOpenAPI.get_server_info(server_api)\n",
    "response"
   ]
  },
  {
   "cell_type": "code",
   "execution_count": 94,
   "id": "0cff0787-ff48-48ca-adb4-0235c6128a70",
   "metadata": {},
   "outputs": [
    {
     "data": {
      "text/plain": [
       "{\n",
       "  \"models\": [\n",
       "    {\n",
       "      \"name\": \"BetaBernoulli-v1\",\n",
       "      \"description\": \"A simple Beta-Bernoulli model\"\n",
       "    },\n",
       "    {\n",
       "      \"name\": \"Drone3D-v1\",\n",
       "      \"description\": \"A 3D drone model\"\n",
       "    },\n",
       "    {\n",
       "      \"name\": \"Drone2D-v1\",\n",
       "      \"description\": \"A 2D drone model\"\n",
       "    }\n",
       "  ]\n",
       "}\n"
      ]
     },
     "execution_count": 94,
     "metadata": {},
     "output_type": "execute_result"
    }
   ],
   "source": [
    "response, info = RxInferClientOpenAPI.get_models(models_api)\n",
    "response"
   ]
  },
  {
   "cell_type": "code",
   "execution_count": 95,
   "id": "8c21c800-5e20-4f6b-9692-fc4c0640619c",
   "metadata": {},
   "outputs": [
    {
     "data": {
      "text/plain": [
       "Main.Environment.Drone(9.81, 1.0, [0.1, 0.1, 0.15], 0.1, 0.2, 15.0)"
      ]
     },
     "execution_count": 95,
     "metadata": {},
     "output_type": "execute_result"
    }
   ],
   "source": [
    "drone = Environment.Drone(\n",
    "    gravity = 9.81,\n",
    "    mass = 1.0,\n",
    "    inertia = [0.1, 0.1, 0.15],\n",
    "    radius = 0.1,\n",
    "    arm_length = 0.2,\n",
    "    force_limit = 15\n",
    ")"
   ]
  },
  {
   "cell_type": "code",
   "execution_count": 96,
   "id": "4bc9fcf3-e06d-4abd-9541-baf36b901793",
   "metadata": {},
   "outputs": [
    {
     "data": {
      "text/plain": [
       "\"395d6845-35a8-4942-bc4d-b8890b5a9ab1\""
      ]
     },
     "execution_count": 96,
     "metadata": {},
     "output_type": "execute_result"
    }
   ],
   "source": [
    "create_model_req = RxInferClientOpenAPI.CreateModelRequest(\n",
    "    model = \"Drone3D-v1\",\n",
    "    description = \"3D drone demonstration\",\n",
    "    arguments = Dict(\n",
    "        \"dt\" => 0.05,\n",
    "        \"horizon\" => 40,\n",
    "        \"gravity\" => drone.gravity,\n",
    "        \"mass\" => drone.mass,\n",
    "        \"inertia\" => drone.inertia,\n",
    "        \"radius\" => drone.radius,\n",
    "        \"arm_length\" => drone.arm_length,\n",
    "        \"force_limit\" => drone.force_limit\n",
    "    )\n",
    ")\n",
    "\n",
    "response, _ = RxInferClientOpenAPI.create_model(models_api, create_model_req)\n",
    "model_id = response.model_id"
   ]
  },
  {
   "cell_type": "code",
   "execution_count": 97,
   "id": "f9670278-7b90-46ed-84d6-0a686e1740a6",
   "metadata": {},
   "outputs": [
    {
     "data": {
      "text/plain": [
       "3-element Vector{Float64}:\n",
       " 0.4\n",
       " 0.8\n",
       " 0.2"
      ]
     },
     "execution_count": 97,
     "metadata": {},
     "output_type": "execute_result"
    }
   ],
   "source": [
    "start = [\n",
    "    0.0, 0.0, 0.0,  # position (x, y, z)\n",
    "    0.0, 0.0, 0.0,  # velocity (vx, vy, vz)\n",
    "    0.0, 0.0, 0.0,  # orientation (ϕ, θ, ψ)\n",
    "    0.0, 0.0, 0.0   # angular velocity (ωx, ωy, ωz)\n",
    "]\n",
    "target = [ 0.4, 0.8, 0.2 ]"
   ]
  },
  {
   "cell_type": "code",
   "execution_count": 98,
   "id": "88bc2912-d696-442d-92a3-994d2ad0f2bb",
   "metadata": {},
   "outputs": [],
   "source": [
    "inference_req = RxInferClientOpenAPI.InferRequest(\n",
    "    data = Dict(\n",
    "        \"current_state\" => start,\n",
    "        \"target\" => target,\n",
    "    )\n",
    ")\n",
    "response, _ = RxInferClientOpenAPI.run_inference(models_api, model_id, inference_req);"
   ]
  },
  {
   "cell_type": "code",
   "execution_count": 99,
   "id": "04788f61-c6c9-4706-8a72-47b0b851ec17",
   "metadata": {},
   "outputs": [],
   "source": [
    "states = [ start ]\n",
    "for action in response.results[\"actions\"]\n",
    "    a = Float64.(action)\n",
    "    current_state = last(states)\n",
    "    next_state = Environment.state_transition_3d(current_state, a, drone, 0.05)\n",
    "    push!(states, next_state)\n",
    "end"
   ]
  },
  {
   "cell_type": "code",
   "execution_count": 109,
   "id": "ed1515fa-c142-4de2-be0e-1806671018be",
   "metadata": {},
   "outputs": [
    {
     "data": {
      "text/html": [
       "<img src=\"data:image/gif;base64,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\" />"
      ],
      "text/plain": [
       "Plots.AnimatedGif(\"/Users/bvdmitri/Projects/LazyDynamics/RxInferServer/examples/drone-plan.gif\")"
      ]
     },
     "execution_count": 109,
     "metadata": {},
     "output_type": "execute_result"
    }
   ],
   "source": [
    "animation = @animate for k in 1:length(states)\n",
    "\n",
    "    # plot target\n",
    "    p = scatter([target[1]], [target[2]], [target[3]], label = \"target\"; color = :red)\n",
    "\n",
    "    # plot drone\n",
    "    Environment.plot_drone_3d!(p, drone, states[k])\n",
    "\n",
    "    xlims!(-1.5, 1.5)\n",
    "    ylims!(-1.5, 1.5)\n",
    "    zlims!(-1.5, 1.5)\n",
    "\n",
    "end\n",
    "\n",
    "gif(animation, \"drone-plan.gif\", show_msg = false)"
   ]
  },
  {
   "cell_type": "code",
   "execution_count": 110,
   "id": "d4c1e52b-cc80-46e5-b7c5-6c30df9511e5",
   "metadata": {},
   "outputs": [
    {
     "data": {
      "text/plain": [
       "experiment_with_server (generic function with 1 method)"
      ]
     },
     "execution_count": 110,
     "metadata": {},
     "output_type": "execute_result"
    }
   ],
   "source": [
    "function experiment_with_server()\n",
    "\n",
    "    drone = Environment.Drone(\n",
    "        gravity = 9.81,\n",
    "        mass = 1.0,\n",
    "        inertia = [0.1, 0.1, 0.15],\n",
    "        radius = 0.1,\n",
    "        arm_length = 0.2,\n",
    "        force_limit = 15\n",
    "    )\n",
    "\n",
    "    dt = 0.1\n",
    "    horizon = 30\n",
    "\n",
    "    create_model_req = RxInferClientOpenAPI.CreateModelRequest(\n",
    "        model = \"Drone3D-v1\",\n",
    "        description = \"3D drone demonstration\",\n",
    "        arguments = Dict(\n",
    "            \"dt\" => dt,\n",
    "            \"horizon\" => horizon,\n",
    "            \"gravity\" => drone.gravity,\n",
    "            \"mass\" => drone.mass,\n",
    "            \"inertia\" => drone.inertia,\n",
    "            \"radius\" => drone.radius,\n",
    "            \"arm_length\" => drone.arm_length,\n",
    "            \"force_limit\" => drone.force_limit\n",
    "        )\n",
    "    )\n",
    "    \n",
    "    response, _ = RxInferClientOpenAPI.create_model(models_api, create_model_req)\n",
    "    model_id = response.model_id\n",
    "\n",
    "    targets = [\n",
    "        [ 0.4, 0.8, 0.2 ],\n",
    "        [ -0.4, 0.8, -0.2 ],\n",
    "        [ 0.6, 0.0, 0.0 ],\n",
    "        [ 0.0, 0.6, -0.3 ],\n",
    "    ] \n",
    "    \n",
    "    start = [\n",
    "        0.0, 0.0, 0.0,  # position (x, y, z)\n",
    "        0.0, 0.0, 0.0,  # velocity (vx, vy, vz)\n",
    "        0.0, 0.0, 0.0,  # orientation (ϕ, θ, ψ)\n",
    "        0.0, 0.0, 0.0   # angular velocity (ωx, ωy, ωz)\n",
    "    ]\n",
    "\n",
    "    current_state = copy(start)\n",
    "    times = Float64[]\n",
    "    \n",
    "    animation = @animate for k in 1:150\n",
    "\n",
    "        target = targets[div(k, 50) + 1]\n",
    "\n",
    "        start_time = time_ns()\n",
    "        inference_req = RxInferClientOpenAPI.InferRequest(\n",
    "            data = Dict(\n",
    "                \"current_state\" => current_state,\n",
    "                \"target\" => target,\n",
    "            )\n",
    "        )\n",
    "        response, _ = RxInferClientOpenAPI.run_inference(models_api, model_id, inference_req);\n",
    "        end_time = time_ns()\n",
    "\n",
    "        push!(times, end_time - start_time)\n",
    "\n",
    "        first_action = Float64.(response.results[\"actions\"][1])\n",
    "\n",
    "        next_state = Environment.state_transition_3d(current_state, first_action, drone, dt)\n",
    "        current_state = copy(next_state)\n",
    "    \n",
    "        # plot target\n",
    "        p = scatter([target[1]], [target[2]], [target[3]], label = \"target\"; color = :red)\n",
    "    \n",
    "        # plot drone\n",
    "        Environment.plot_drone_3d!(p, drone, next_state)\n",
    "    \n",
    "        xlims!(-2.5, 2.5)\n",
    "        ylims!(-2.5, 2.5)\n",
    "        zlims!(-2.5, 2.5)\n",
    "    \n",
    "    end\n",
    "    \n",
    "    anim = gif(animation, \"drone-plan.gif\", show_msg = false)\n",
    "\n",
    "    return anim, times\n",
    "end"
   ]
  },
  {
   "cell_type": "code",
   "execution_count": 111,
   "id": "0b825798-88e4-4f1e-b6ab-9bcf8d4b56ba",
   "metadata": {},
   "outputs": [
    {
     "data": {
      "text/html": [
       "<img src=\"data:image/gif;base64,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\" />"
      ],
      "text/plain": [
       "Plots.AnimatedGif(\"/Users/bvdmitri/Projects/LazyDynamics/RxInferServer/examples/drone-plan.gif\")"
      ]
     },
     "execution_count": 111,
     "metadata": {},
     "output_type": "execute_result"
    }
   ],
   "source": [
    "anim, times = experiment_with_server()\n",
    "anim"
   ]
  },
  {
   "cell_type": "code",
   "execution_count": 112,
   "id": "fec21287-de10-4789-ba1b-9d7cba8c8d61",
   "metadata": {},
   "outputs": [],
   "source": [
    "times_ms = map(tns -> tns / 10^6, times);"
   ]
  },
  {
   "cell_type": "code",
   "execution_count": 118,
   "id": "276d4914-daf4-4b8c-8eef-123b0edca490",
   "metadata": {},
   "outputs": [
    {
     "data": {
      "text/plain": [
       "0.05608054300746965"
      ]
     },
     "execution_count": 118,
     "metadata": {},
     "output_type": "execute_result"
    }
   ],
   "source": [
    "1 / mean(times_ms)"
   ]
  },
  {
   "cell_type": "code",
   "execution_count": null,
   "id": "f8af2624-4961-4cd4-93f2-426a5e3def51",
   "metadata": {},
   "outputs": [],
   "source": []
  }
 ],
 "metadata": {
  "kernelspec": {
   "display_name": "Julia 1.11.4",
   "language": "julia",
   "name": "julia-1.11"
  },
  "language_info": {
   "file_extension": ".jl",
   "mimetype": "application/julia",
   "name": "julia",
   "version": "1.11.4"
  }
 },
 "nbformat": 4,
 "nbformat_minor": 5
}
